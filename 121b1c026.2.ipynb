{
 "cells": [
  {
   "cell_type": "code",
   "execution_count": 4,
   "metadata": {
    "colab": {
     "base_uri": "https://localhost:8080/"
    },
    "id": "esiVovHNvlmd",
    "outputId": "39096380-b812-4d1c-f151-b5a1c9f0b754"
   },
   "outputs": [
    {
     "name": "stdout",
     "output_type": "stream",
     "text": [
      "Recommendations for 'Spectre':\n",
      "Never Say Never Again\n",
      "From Russia with Love\n",
      "Thunderball\n",
      "Quantum of Solace\n",
      "Octopussy\n",
      "Safe Haven\n",
      "Live and Let Die\n",
      "The Man with the Golden Gun\n",
      "Dr. No\n",
      "Skyfall\n"
     ]
    }
   ],
   "source": [
    "# Import Required Libraries\n",
    "import pandas as pd\n",
    "from sklearn.feature_extraction.text import TfidfVectorizer\n",
    "from sklearn.metrics.pairwise import linear_kernel\n",
    "\n",
    "# Step 1: Load the Dataset\n",
    "# Replace 'movie_dataset.csv' with the actual path to your dataset\n",
    "movies_df = pd.read_csv(r'C:\\Users\\anura\\Downloads\\RS DATASET\\RS Practical 2/movie_dataset.csv')\n",
    "\n",
    "# Step 2: Preprocess the Data\n",
    "# Fill any missing values in the 'genres', 'overview', and 'tagline' columns\n",
    "movies_df['genres'] = movies_df['genres'].fillna('')\n",
    "movies_df['overview'] = movies_df['overview'].fillna('')\n",
    "movies_df['tagline'] = movies_df['tagline'].fillna('')\n",
    "\n",
    "# Combine 'genres', 'overview', and 'tagline' into a single content column\n",
    "movies_df['content'] = (\n",
    "    movies_df['genres'] + ' ' + movies_df['overview'] + ' ' + movies_df['tagline']\n",
    ")\n",
    "\n",
    "# Step 3: Create a TF-IDF Vectorizer and Compute the Similarity Matrix\n",
    "tfidf = TfidfVectorizer(stop_words='english')\n",
    "tfidf_matrix = tfidf.fit_transform(movies_df['content'])\n",
    "\n",
    "# Compute the cosine similarity matrix\n",
    "cosine_sim = linear_kernel(tfidf_matrix, tfidf_matrix)\n",
    "\n",
    "# Step 4: Build the Recommendation Function\n",
    "def get_recommendations(title, cosine_sim=cosine_sim, movies_df=movies_df):\n",
    "    # Check if the movie title exists in the dataset\n",
    "    if title not in movies_df['title'].values:\n",
    "        return [\"Movie not found in database.\"]\n",
    "\n",
    "    # Get the index of the movie that matches the title\n",
    "    idx = movies_df[movies_df['title'] == title].index[0]\n",
    "\n",
    "    # Get the pairwise similarity scores of all movies with that movie\n",
    "    sim_scores = list(enumerate(cosine_sim[idx]))\n",
    "\n",
    "    # Sort the movies based on the similarity scores\n",
    "    sim_scores = sorted(sim_scores, key=lambda x: x[1], reverse=True)\n",
    "\n",
    "    # Get the scores of the top 10 most similar movies\n",
    "    sim_scores = sim_scores[1:11]  # Exclude the movie itself\n",
    "\n",
    "    # Get the movie indices\n",
    "    movie_indices = [i[0] for i in sim_scores]\n",
    "\n",
    "    # Return the top 10 most similar movies\n",
    "    return movies_df['title'].iloc[movie_indices].tolist()\n",
    "\n",
    "# Step 5: Evaluate the Recommendation System\n",
    "# Example: Get recommendations for a specific movie\n",
    "movie_title = \"Spectre\"  # Replace with any movie title from your dataset\n",
    "recommended_movies = get_recommendations(movie_title)\n",
    "\n",
    "print(f\"Recommendations for '{movie_title}':\")\n",
    "for movie in recommended_movies:\n",
    "    print(movie)\n"
   ]
  },
  {
   "cell_type": "code",
   "execution_count": null,
   "metadata": {
    "id": "VZ7iQw_1nc3E"
   },
   "outputs": [],
   "source": []
  }
 ],
 "metadata": {
  "colab": {
   "provenance": []
  },
  "kernelspec": {
   "display_name": "Python 3",
   "name": "python3"
  },
  "language_info": {
   "codemirror_mode": {
    "name": "ipython",
    "version": 3
   },
   "file_extension": ".py",
   "mimetype": "text/x-python",
   "name": "python",
   "nbconvert_exporter": "python",
   "pygments_lexer": "ipython3",
   "version": "3.12.7"
  }
 },
 "nbformat": 4,
 "nbformat_minor": 0
}
