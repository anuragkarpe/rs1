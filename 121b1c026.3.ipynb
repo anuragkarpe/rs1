{
 "cells": [
  {
   "cell_type": "code",
   "execution_count": 2,
   "metadata": {
    "colab": {
     "base_uri": "https://localhost:8080/"
    },
    "id": "lDEV-c-ijSyz",
    "outputId": "c43840dc-3d51-45ae-f4a5-d96df1a4ced1"
   },
   "outputs": [
    {
     "name": "stdout",
     "output_type": "stream",
     "text": [
      "Hybrid Recommendations for user 1 and movie 'The Godfather':\n",
      "[('The Godfather Part II', 0.5), ('Scarface', 0.5), ('On the Waterfront', 0.5), ('Capernaum', 0.5), ('Heat', 0.5), ('User not found in database.', 0.5)]\n"
     ]
    }
   ],
   "source": [
    "import pandas as pd\n",
    "from sklearn.feature_extraction.text import TfidfVectorizer\n",
    "from sklearn.metrics.pairwise import cosine_similarity, pairwise_distances\n",
    "from sklearn.decomposition import TruncatedSVD\n",
    "from scipy.sparse import csr_matrix\n",
    "import numpy as np\n",
    "\n",
    "# Step 1: Load Dataset\n",
    "# Replace 'IMDB Top 250 Movies.csv' with the actual dataset path\n",
    "movies_df = pd.read_csv(r\"C:\\Users\\anura\\Downloads\\RS DATASET\\RS Practical 3/IMDB Top 250 Movies.csv\")\n",
    "\n",
    "# Select relevant columns and preprocess\n",
    "movies_df = movies_df[['name', 'genre', 'tagline', 'casts', 'rating']].dropna()\n",
    "movies_df['content'] = movies_df['genre'] + ' ' + movies_df['tagline'] + ' ' + movies_df['casts']\n",
    "movies_df.dropna(inplace=True)\n",
    "# Step 2: Content-Based Filtering\n",
    "# Vectorize the 'content' column\n",
    "tfidf = TfidfVectorizer(stop_words='english')\n",
    "tfidf_matrix = tfidf.fit_transform(movies_df['content'])\n",
    "\n",
    "# Compute cosine similarity for content-based filtering\n",
    "cosine_sim = cosine_similarity(tfidf_matrix, tfidf_matrix)\n",
    "\n",
    "# Step 3: Collaborative Filtering (using the 'rating' column)\n",
    "# Create a user-item matrix based on movie ratings\n",
    "ratings_data = movies_df[['name', 'rating']].copy()\n",
    "\n",
    "# We assume each user has rated each movie, even though it’s implicit here.\n",
    "# Create a user-item matrix for collaborative filtering\n",
    "user_item_matrix = ratings_data.pivot(index='name', columns='rating', values='rating').fillna(0)\n",
    "user_item_sparse = csr_matrix(user_item_matrix.values)\n",
    "\n",
    "# Apply SVD for dimensionality reduction (Latent Factor Model)\n",
    "svd = TruncatedSVD(n_components=5)  # Use 5 components for simplicity\n",
    "latent_matrix = svd.fit_transform(user_item_sparse)\n",
    "\n",
    "# Step 4: Define Hybrid Recommendation Functions\n",
    "\n",
    "# Content-Based Recommendations\n",
    "def get_content_based_recommendations(title, cosine_sim=cosine_sim):\n",
    "    if title not in movies_df['name'].values:\n",
    "        return [\"Movie not found in database.\"]\n",
    "\n",
    "    idx = movies_df.index[movies_df['name'] == title][0]\n",
    "    sim_scores = list(enumerate(cosine_sim[idx]))\n",
    "    sim_scores = sorted(sim_scores, key=lambda x: x[1], reverse=True)\n",
    "    movie_indices = [i[0] for i in sim_scores[1:6]]  # Top 5 similar movies\n",
    "    return movies_df['name'].iloc[movie_indices].tolist()\n",
    "\n",
    "# Collaborative Recommendations\n",
    "def get_collaborative_recommendations(user_id, user_item_matrix=user_item_matrix, latent_matrix=latent_matrix):\n",
    "    if user_id not in user_item_matrix.index:\n",
    "        return [\"User not found in database.\"]\n",
    "\n",
    "    user_idx = list(user_item_matrix.index).index(user_id)\n",
    "    distances = pairwise_distances(latent_matrix[user_idx].reshape(1, -1), latent_matrix, metric='cosine').flatten()\n",
    "    similar_users = distances.argsort()[1:4]  # Top 3 similar users\n",
    "\n",
    "    recommended_movies = []\n",
    "    for sim_user in similar_users:\n",
    "        user_movies = user_item_matrix.iloc[sim_user].replace(0, None).dropna().index.tolist()\n",
    "        recommended_movies.extend(user_movies)\n",
    "\n",
    "    return list(set(recommended_movies))\n",
    "\n",
    "# Hybrid Recommendations\n",
    "# Refactor Hybrid Recommendations\n",
    "def hybrid_recommendations(user_id, title, alpha=0.5):\n",
    "    # Get Content-based recommendations\n",
    "    content_recs = get_content_based_recommendations(title)\n",
    "\n",
    "    # Handle collaborative recommendations with a simulated user\n",
    "    collaborative_recs = get_collaborative_recommendations(user_id)\n",
    "\n",
    "    # Combine recommendations\n",
    "    # Using alpha to mix the two lists\n",
    "    combined_recs = content_recs + collaborative_recs\n",
    "\n",
    "    # Sort the final recommendations by relevance (you can modify this logic)\n",
    "    final_recs = [(movie, alpha if movie in content_recs else 1-alpha) for movie in combined_recs]\n",
    "\n",
    "    return sorted(final_recs, key=lambda x: x[1], reverse=True)\n",
    "\n",
    "# Simulated User ID and Movie for testing\n",
    "user_id = 1  # Simulate a user ID\n",
    "movie_title = 'The Godfather'  # Movie title for which we want recommendations\n",
    "\n",
    "# Print Hybrid Recommendations\n",
    "print(f\"Hybrid Recommendations for user {user_id} and movie '{movie_title}':\")\n",
    "print(hybrid_recommendations(user_id, movie_title))\n",
    "\n"
   ]
  },
  {
   "cell_type": "code",
   "execution_count": 4,
   "metadata": {
    "id": "AgmLaq3kn4RC"
   },
   "outputs": [],
   "source": []
  }
 ],
 "metadata": {
  "colab": {
   "provenance": []
  },
  "kernelspec": {
   "display_name": "Python 3",
   "name": "python3"
  },
  "language_info": {
   "codemirror_mode": {
    "name": "ipython",
    "version": 3
   },
   "file_extension": ".py",
   "mimetype": "text/x-python",
   "name": "python",
   "nbconvert_exporter": "python",
   "pygments_lexer": "ipython3",
   "version": "3.12.7"
  }
 },
 "nbformat": 4,
 "nbformat_minor": 0
}
