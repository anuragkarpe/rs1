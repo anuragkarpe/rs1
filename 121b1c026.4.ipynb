{
 "cells": [
  {
   "cell_type": "code",
   "execution_count": 2,
   "metadata": {
    "id": "C14BJ2vhSFlU"
   },
   "outputs": [],
   "source": [
    "import pandas as pd\n",
    "from sklearn.model_selection import train_test_split\n",
    "from sklearn.ensemble import RandomForestClassifier\n",
    "from sklearn.metrics import accuracy_score, classification_report, confusion_matrix\n",
    "from sklearn.datasets import load_breast_cancer\n",
    "import numpy as np"
   ]
  },
  {
   "cell_type": "code",
   "execution_count": 3,
   "metadata": {
    "id": "TvBXGNblSMCS"
   },
   "outputs": [],
   "source": [
    "#Step 2: Loading the Breast Cancer dataset\n",
    "data = load_breast_cancer()\n",
    "df = pd.DataFrame(data.data, columns=data.feature_names)\n",
    "df['target'] = data.target # target: 0 = malignant, 1 = benign"
   ]
  },
  {
   "cell_type": "code",
   "execution_count": 4,
   "metadata": {
    "id": "k8t7mTx2ShN9"
   },
   "outputs": [],
   "source": [
    "# Step 3: Data Preprocessing (optional, depending on dataset)\n",
    "# In this case, the data is already preprocessed, but further normalization or feature selection may be added.\n",
    "# Step 4: Splitting the data into train and test sets\n",
    "X = df.drop(columns='target') # features\n",
    "y = df['target'] # target variable\n",
    "X_train, X_test, y_train, y_test = train_test_split(X, y, test_size=0.2, random_state=42)"
   ]
  },
  {
   "cell_type": "code",
   "execution_count": 5,
   "metadata": {
    "colab": {
     "base_uri": "https://localhost:8080/"
    },
    "id": "pFD_wxEgSj4q",
    "outputId": "59a6b2fc-c75e-4372-e7fa-0b8bdbeb8190"
   },
   "outputs": [
    {
     "name": "stdout",
     "output_type": "stream",
     "text": [
      "Model Accuracy: 0.9649122807017544\n",
      "\n",
      "Classification Report:\n",
      "               precision    recall  f1-score   support\n",
      "\n",
      "           0       0.98      0.93      0.95        43\n",
      "           1       0.96      0.99      0.97        71\n",
      "\n",
      "    accuracy                           0.96       114\n",
      "   macro avg       0.97      0.96      0.96       114\n",
      "weighted avg       0.97      0.96      0.96       114\n",
      "\n",
      "Confusion Matrix:\n",
      " [[40  3]\n",
      " [ 1 70]]\n"
     ]
    }
   ],
   "source": [
    "# Step 5: Training the model\n",
    "model = RandomForestClassifier(n_estimators=100, random_state=42)\n",
    "model.fit(X_train, y_train)\n",
    "# Step 6: Predicting and evaluating the model\n",
    "y_pred = model.predict(X_test)\n",
    "accuracy = accuracy_score(y_test, y_pred)\n",
    "print(\"Model Accuracy:\", accuracy)\n",
    "print(\"\\nClassification Report:\\n\", classification_report(y_test, y_pred))\n",
    "print(\"Confusion Matrix:\\n\", confusion_matrix(y_test, y_pred))"
   ]
  },
  {
   "cell_type": "code",
   "execution_count": 6,
   "metadata": {
    "id": "iwZt2-HtSm_p"
   },
   "outputs": [],
   "source": [
    "# Step 7: Making recommendations based on prediction outcomes\n",
    "def prognosis_recommendation(features):\n",
    "    \"\"\"\n",
    "    Function to provide prognosis recommendation based on model predictions.\n",
    "    :param features: Array of patient features\n",
    "    :return: String recommendation\n",
    "    \"\"\"\n",
    "    prediction = model.predict([features])\n",
    "    if prediction[0] == 0:\n",
    "        return \"High risk of malignant cancer. Immediate consultation and further tests recommended.\"\n",
    "    else:\n",
    "        return \"Benign results. Routine monitoring suggested, but follow up with a healthcare provider.\""
   ]
  },
  {
   "cell_type": "code",
   "execution_count": 7,
   "metadata": {
    "colab": {
     "base_uri": "https://localhost:8080/"
    },
    "id": "MYLiTXSmTIU7",
    "outputId": "365c7f20-e616-4269-eece-a31c370cdfd4"
   },
   "outputs": [
    {
     "name": "stdout",
     "output_type": "stream",
     "text": [
      "Recommendation: Benign results. Routine monitoring suggested, but follow up with a healthcare provider.\n"
     ]
    },
    {
     "name": "stderr",
     "output_type": "stream",
     "text": [
      "C:\\Users\\anura\\AppData\\Local\\Packages\\PythonSoftwareFoundation.Python.3.12_qbz5n2kfra8p0\\LocalCache\\local-packages\\Python312\\site-packages\\sklearn\\base.py:493: UserWarning: X does not have valid feature names, but RandomForestClassifier was fitted with feature names\n",
      "  warnings.warn(\n"
     ]
    }
   ],
   "source": [
    "# Example usage\n",
    "example_patient =X_test.iloc[0].values\n",
    "recommendation = prognosis_recommendation(example_patient)\n",
    "print(\"Recommendation:\", recommendation)"
   ]
  },
  {
   "cell_type": "code",
   "execution_count": null,
   "metadata": {
    "id": "eMQqd3GdFYXz"
   },
   "outputs": [],
   "source": []
  }
 ],
 "metadata": {
  "colab": {
   "provenance": []
  },
  "kernelspec": {
   "display_name": "Python 3",
   "name": "python3"
  },
  "language_info": {
   "codemirror_mode": {
    "name": "ipython",
    "version": 3
   },
   "file_extension": ".py",
   "mimetype": "text/x-python",
   "name": "python",
   "nbconvert_exporter": "python",
   "pygments_lexer": "ipython3",
   "version": "3.12.7"
  }
 },
 "nbformat": 4,
 "nbformat_minor": 0
}
