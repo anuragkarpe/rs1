{
  "nbformat": 4,
  "nbformat_minor": 0,
  "metadata": {
    "colab": {
      "provenance": []
    },
    "kernelspec": {
      "name": "python3",
      "display_name": "Python 3"
    },
    "language_info": {
      "name": "python"
    }
  },
  "cells": [
    {
      "cell_type": "code",
      "execution_count": 1,
      "metadata": {
        "colab": {
          "base_uri": "https://localhost:8080/"
        },
        "id": "2cLmUYV-7bw6",
        "outputId": "94ed1ed7-8306-4f4c-b922-00b7f0c274aa"
      },
      "outputs": [
        {
          "output_type": "stream",
          "name": "stdout",
          "text": [
            "Model Accuracy: 0.9649122807017544\n",
            "\n",
            "Classification Report:\n",
            "               precision    recall  f1-score   support\n",
            "\n",
            "           0       0.98      0.93      0.95        43\n",
            "           1       0.96      0.99      0.97        71\n",
            "\n",
            "    accuracy                           0.96       114\n",
            "   macro avg       0.97      0.96      0.96       114\n",
            "weighted avg       0.97      0.96      0.96       114\n",
            "\n",
            "Confusion Matrix:\n",
            " [[40  3]\n",
            " [ 1 70]]\n",
            "Recommendation: Benign results. Routine monitoring suggested, but follow up with a healthcare provider.\n"
          ]
        },
        {
          "output_type": "stream",
          "name": "stderr",
          "text": [
            "/usr/local/lib/python3.10/dist-packages/sklearn/base.py:493: UserWarning: X does not have valid feature names, but RandomForestClassifier was fitted with feature names\n",
            "  warnings.warn(\n"
          ]
        }
      ],
      "source": [
        "# Step 1: Importing necessary libraries\n",
        "import pandas as pd\n",
        "from sklearn.model_selection import train_test_split\n",
        "from sklearn.ensemble import RandomForestClassifier\n",
        "from sklearn.metrics import accuracy_score, classification_report, confusion_matrix\n",
        "from sklearn.datasets import load_breast_cancer\n",
        "import numpy as np\n",
        "\n",
        "# Step 2: Loading the Breast Cancer dataset\n",
        "data = load_breast_cancer()\n",
        "df = pd.DataFrame(data.data, columns=data.feature_names)\n",
        "df['target'] = data.target  # target: 0 = malignant, 1 = benign\n",
        "\n",
        "# Step 3: Data Preprocessing (optional, depending on dataset)\n",
        "# In this case, the data is already preprocessed, but further normalization or feature selection may be added.\n",
        "\n",
        "# Step 4: Splitting the data into train and test sets\n",
        "X = df.drop(columns='target')  # features\n",
        "y = df['target']  # target variable\n",
        "X_train, X_test, y_train, y_test = train_test_split(X, y, test_size=0.2, random_state=42)\n",
        "\n",
        "# Step 5: Training the model\n",
        "model = RandomForestClassifier(n_estimators=100, random_state=42)\n",
        "model.fit(X_train, y_train)\n",
        "\n",
        "# Step 6: Predicting and evaluating the model\n",
        "y_pred = model.predict(X_test)\n",
        "accuracy = accuracy_score(y_test, y_pred)\n",
        "print(\"Model Accuracy:\", accuracy)\n",
        "print(\"\\nClassification Report:\\n\", classification_report(y_test, y_pred))\n",
        "print(\"Confusion Matrix:\\n\", confusion_matrix(y_test, y_pred))\n",
        "\n",
        "# Step 7: Making recommendations based on prediction outcomes\n",
        "def prognosis_recommendation(features):\n",
        "    \"\"\"\n",
        "    Function to provide prognosis recommendation based on model predictions.\n",
        "    :param features: Array of patient features\n",
        "    :return: String recommendation\n",
        "    \"\"\"\n",
        "    prediction = model.predict([features])\n",
        "    if prediction[0] == 0:\n",
        "        return \"High risk of malignant cancer. Immediate consultation and further tests recommended.\"\n",
        "    else:\n",
        "        return \"Benign results. Routine monitoring suggested, but follow up with a healthcare provider.\"\n",
        "\n",
        "# Example usage\n",
        "example_patient = X_test.iloc[0].values  # taking one test sample\n",
        "recommendation = prognosis_recommendation(example_patient)\n",
        "print(\"Recommendation:\", recommendation)\n"
      ]
    }
  ]
}